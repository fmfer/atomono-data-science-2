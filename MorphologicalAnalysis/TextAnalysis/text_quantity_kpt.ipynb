{
 "cells": [
  {
   "cell_type": "markdown",
   "id": "35e93ca0-e2fd-41cc-9864-e9f26fa1b1c5",
   "metadata": {},
   "source": [
    "# 分析\n",
    "\n",
    "本当は1日単位でDailyでとって変遷まで見たかったが、\n",
    "間に合わないのでWeeklyで取るしかない。\n"
   ]
  },
  {
   "cell_type": "markdown",
   "id": "78868d9d-1fdc-4165-b1de-785e929fa45e",
   "metadata": {},
   "source": [
    "## KPT_7_26_08_01"
   ]
  },
  {
   "cell_type": "markdown",
   "id": "fea4d54c-c569-49d4-8d16-0608cc0d4d06",
   "metadata": {},
   "source": [
    "### 文字数"
   ]
  },
  {
   "cell_type": "markdown",
   "id": "f6ebcafe-620e-4c6d-9d9f-cf1849921ad0",
   "metadata": {},
   "source": [
    "#### Slack\n",
    "\n",
    "下処理について\n",
    "\n",
    "* 不要なjsonデータは削除しました\n",
    "  * 主にトップフォルダの内容\n"
   ]
  },
  {
   "cell_type": "code",
   "execution_count": 32,
   "id": "b7932404-a47f-4f29-80d5-e954aa07c9f3",
   "metadata": {},
   "outputs": [
    {
     "name": "stdout",
     "output_type": "stream",
     "text": [
      "Total number of characters: {'satoshi.\\u200bhirata': 450, 'Dai': 2152, 'FABIAN': 753, 'Nakayama': 1016, '鈴木真希': 90, 'Ohno': 3050, 'Hibiki': 2906, 'slackbot': 32}\n",
      "1016\n",
      "450\n",
      "2906\n",
      "90\n",
      "2152\n",
      "3050\n",
      "753\n"
     ]
    }
   ],
   "source": [
    "import os\n",
    "import json\n",
    "\n",
    "# JSONファイルが格納されているディレクトリのパス\n",
    "directory = 'material/KPT_7_26_08_01/Slack/'\n",
    "\n",
    "# 文字数の合計を格納する変数\n",
    "total_characters = {}\n",
    "\n",
    "# ディレクトリとそのサブディレクトリ内のすべてのファイルを読み込む\n",
    "for subdir, dirs, files in os.walk(directory):\n",
    "    for filename in files:\n",
    "        if filename.endswith(\".json\"): \n",
    "            filepath = subdir + os.sep + filename\n",
    "            with open(filepath, 'r') as f:\n",
    "                data = json.load(f)\n",
    "                \n",
    "                for message in data:\n",
    "                    if 'blocks' in message and 'user_profile' in message:\n",
    "                       author = message['user_profile']['first_name']\n",
    "                       if author not in total_characters:\n",
    "                            total_characters[author] = 0\n",
    "                       for block in message['blocks']:\n",
    "                          if 'elements' in block:\n",
    "                            for element in block['elements']:\n",
    "                              if 'rich_text_section' in element['type']:\n",
    "                                for element2 in element['elements']:\n",
    "                                  if 'text' == element2['type']:\n",
    "                                    text = element2['text']\n",
    "                                    total_characters[author] += len(text)                                    \n",
    "                                    \n",
    "print(f\"Total number of characters: {total_characters}\")\n",
    "\n",
    "print(total_characters['Nakayama'])\n",
    "print(total_characters['satoshi.\\u200bhirata'])\n",
    "print(total_characters['Hibiki'])\n",
    "print(total_characters['鈴木真希'])\n",
    "print(total_characters['Dai'])\n",
    "print(total_characters['Ohno'])\n",
    "print(total_characters['FABIAN'])\n"
   ]
  },
  {
   "cell_type": "markdown",
   "id": "919eba3d-7533-4840-90c0-2742e09a27b9",
   "metadata": {},
   "source": [
    "### 文章量"
   ]
  },
  {
   "cell_type": "markdown",
   "id": "8a0627d0-bc27-4611-92cc-a889591031fd",
   "metadata": {},
   "source": [
    "### 単語のカウント数\n"
   ]
  },
  {
   "cell_type": "markdown",
   "id": "0d94d5a6-7246-492c-8513-fd1aceb039f2",
   "metadata": {},
   "source": [
    "#### Slack"
   ]
  },
  {
   "cell_type": "code",
   "execution_count": 33,
   "id": "2317293f-0f1b-439e-86d0-dab2c3cde751",
   "metadata": {},
   "outputs": [
    {
     "name": "stdout",
     "output_type": "stream",
     "text": [
      "Word: スライド, Count: 85\n",
      "Word: 作成, Count: 54\n",
      "Word: さん, Count: 40\n",
      "Word: id, Count: 34\n",
      "Word: する, Count: 33\n",
      "Word: mode, Count: 33\n",
      "Word: designnode, Count: 32\n",
      "Word: designt, Count: 32\n",
      "Word: 発表, Count: 30\n",
      "Word: 確認, Count: 26\n",
      "Word: お願い, Count: 25\n",
      "Word: いる, Count: 24\n",
      "Word: リモート, Count: 23\n",
      "Word: こと, Count: 22\n",
      "Word: よう, Count: 21\n",
      "Word: コメント, Count: 21\n",
      "Word: man, Count: 21\n",
      "Word: でき, Count: 20\n",
      "Word: Hibiki, Count: 20\n",
      "Word: Mizuno, Count: 20\n"
     ]
    }
   ],
   "source": [
    "import os\n",
    "import json\n",
    "import MeCab\n",
    "import ipadic\n",
    "from collections import Counter\n",
    "import re\n",
    "\n",
    "CHASEN_ARGS = r' -F \"%m\\t%f[7]\\t%f[6]\\t%F-[0,1,2,3]\\t%f[4]\\t%f[5]\\n\"'\n",
    "CHASEN_ARGS += r' -U \"%m\\t%m\\t%m\\t%F-[0,1,2,3]\\t\\t\\n\"'\n",
    "\n",
    "# JSONファイルが格納されているディレクトリのパス\n",
    "directory = 'material/KPT_7_26_08_01/'\n",
    "\n",
    "# MeCabのインスタンスを作成\n",
    "m = MeCab.Tagger(ipadic.MECAB_ARGS + CHASEN_ARGS)\n",
    "\n",
    "# 単語のカウントを格納するCounterオブジェクト\n",
    "word_counts = Counter()\n",
    "\n",
    "# ディレクトリとそのサブディレクトリ内のすべてのファイルを読み込む\n",
    "for subdir, dirs, files in os.walk(directory):\n",
    "    for filename in files:\n",
    "        if filename.endswith(\".json\"): \n",
    "            filepath = subdir + os.sep + filename\n",
    "            with open(filepath, 'r') as f:\n",
    "                data = json.load(f)\n",
    "                for message in data:\n",
    "                    if 'text' in message:\n",
    "                        text = message['text']\n",
    "                        # HTMLエンティティを除外\n",
    "                        text = re.sub(r'&[a-z]+;', '', text)\n",
    "                        text = re.sub(r'https*:[a-zA-Z0-9%./?]+', '', text)\n",
    "                        text = re.sub(r'AT-[0-9A-Za-z]+', '', text)\n",
    "                        text = re.sub(r'[0-9]+', '', text)\n",
    "                        parsed_text = m.parse(text).split('\\n')\n",
    "                        words = [word.split('\\t')[0] for word in parsed_text \n",
    "                                 if word.strip() \n",
    "                                 and len(word.split('\\t')) > 1 \n",
    "                                 and (\n",
    "                                     word.split('\\t')[3].startswith('名詞') \n",
    "                                     or word.split('\\t')[3].startswith('動詞') \n",
    "                                     or word.split('\\t')[3].startswith('形容詞')\n",
    "                                 ) \n",
    "                                 and len(word.split('\\t')[0]) > 1 \n",
    "                                 ]  \n",
    "                        # 名詞、動詞、形容詞のみを抽出し、一文字の単語や英字のみの単語を除外\n",
    "                        word_counts.update(words)\n",
    "\n",
    "# 最も頻繁に出現する単語の上位3つを出力\n",
    "top_three = word_counts.most_common(20)\n",
    "for word, count in top_three:\n",
    "    print(f'Word: {word}, Count: {count}')"
   ]
  },
  {
   "cell_type": "code",
   "execution_count": null,
   "id": "6fcaeebc-b73f-465b-93a5-9dcde3b9d44b",
   "metadata": {},
   "outputs": [],
   "source": []
  }
 ],
 "metadata": {
  "kernelspec": {
   "display_name": "Python 3 (ipykernel)",
   "language": "python",
   "name": "python3"
  },
  "language_info": {
   "codemirror_mode": {
    "name": "ipython",
    "version": 3
   },
   "file_extension": ".py",
   "mimetype": "text/x-python",
   "name": "python",
   "nbconvert_exporter": "python",
   "pygments_lexer": "ipython3",
   "version": "3.8.12"
  }
 },
 "nbformat": 4,
 "nbformat_minor": 5
}
