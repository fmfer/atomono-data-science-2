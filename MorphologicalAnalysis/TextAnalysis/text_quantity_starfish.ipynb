{
 "cells": [
  {
   "cell_type": "markdown",
   "id": "35e93ca0-e2fd-41cc-9864-e9f26fa1b1c5",
   "metadata": {},
   "source": [
    "# 分析\n",
    "\n",
    "本当は1日単位でDailyでとって変遷まで見たかったが、\n",
    "間に合わないのでWeeklyで取るしかない。\n"
   ]
  },
  {
   "cell_type": "markdown",
   "id": "78868d9d-1fdc-4165-b1de-785e929fa45e",
   "metadata": {},
   "source": [
    "## star_fish_10_17_10_23"
   ]
  },
  {
   "cell_type": "markdown",
   "id": "fea4d54c-c569-49d4-8d16-0608cc0d4d06",
   "metadata": {},
   "source": [
    "### 文字数"
   ]
  },
  {
   "cell_type": "markdown",
   "id": "f6ebcafe-620e-4c6d-9d9f-cf1849921ad0",
   "metadata": {},
   "source": [
    "#### Slack\n",
    "\n",
    "下処理について\n",
    "\n",
    "* 不要なjsonデータは削除しました\n",
    "  * 主にトップフォルダの内容\n"
   ]
  },
  {
   "cell_type": "code",
   "execution_count": 3,
   "id": "b7932404-a47f-4f29-80d5-e954aa07c9f3",
   "metadata": {},
   "outputs": [
    {
     "name": "stdout",
     "output_type": "stream",
     "text": [
      "Total number of characters: {'satoshi.\\u200bhirata': 2022, 'Nakayama': 1973, 'Hibiki': 2968, 'Dai': 3172, 'FABIAN': 1310, 'Ohno': 1447, '鈴木真希': 3950, 'slackbot': 32}\n",
      "1973\n",
      "2022\n",
      "2968\n",
      "3950\n",
      "3172\n",
      "1447\n",
      "1310\n"
     ]
    }
   ],
   "source": [
    "import os\n",
    "import json\n",
    "\n",
    "# JSONファイルが格納されているディレクトリのパス\n",
    "directory = 'material/star_fish_10_17_10_23/Slack/'\n",
    "\n",
    "# 文字数の合計を格納する変数\n",
    "total_characters = {}\n",
    "\n",
    "# ディレクトリとそのサブディレクトリ内のすべてのファイルを読み込む\n",
    "for subdir, dirs, files in os.walk(directory):\n",
    "    for filename in files:\n",
    "        if filename.endswith(\".json\"): \n",
    "            filepath = subdir + os.sep + filename\n",
    "            with open(filepath, 'r') as f:\n",
    "                data = json.load(f)\n",
    "                \n",
    "                for message in data:\n",
    "                    if 'blocks' in message and 'user_profile' in message:\n",
    "                       author = message['user_profile']['first_name']\n",
    "                       if author not in total_characters:\n",
    "                            total_characters[author] = 0\n",
    "                       for block in message['blocks']:\n",
    "                          if 'elements' in block:\n",
    "                            for element in block['elements']:\n",
    "                              if 'rich_text_section' in element['type']:\n",
    "                                for element2 in element['elements']:\n",
    "                                  if 'text' == element2['type']:\n",
    "                                    text = element2['text']\n",
    "                                    total_characters[author] += len(text)                                    \n",
    "                                    \n",
    "print(f\"Total number of characters: {total_characters}\")\n",
    "\n",
    "print(total_characters['Nakayama'])\n",
    "print(total_characters['satoshi.\\u200bhirata'])\n",
    "print(total_characters['Hibiki'])\n",
    "print(total_characters['鈴木真希'])\n",
    "print(total_characters['Dai'])\n",
    "print(total_characters['Ohno'])\n",
    "print(total_characters['FABIAN'])\n"
   ]
  },
  {
   "cell_type": "markdown",
   "id": "e0980aed-13d2-48e8-8979-74ba7d9652c0",
   "metadata": {},
   "source": [
    "#### Figjam\n"
   ]
  },
  {
   "cell_type": "code",
   "execution_count": 4,
   "id": "a2946354-1b50-4178-a2b5-bc810795209e",
   "metadata": {},
   "outputs": [
    {
     "name": "stdout",
     "output_type": "stream",
     "text": [
      "Created by\n",
      "Dai Miyahara           112\n",
      "FABIAN M. FERNANDEZ    124\n",
      "中山建太                   305\n",
      "大野寛人                    92\n",
      "平田聖                    111\n",
      "水野響                    276\n",
      "鈴木真希                    60\n",
      "Name: char_count, dtype: int64\n",
      "Total: 1080\n",
      "305\n",
      "111\n",
      "276\n",
      "60\n",
      "112\n",
      "92\n",
      "124\n"
     ]
    }
   ],
   "source": [
    "import pandas as pd\n",
    "\n",
    "# CSVファイルのパス\n",
    "filepath = 'material/star_fish_10_17_10_23/figjam.csv'\n",
    "\n",
    "# CSVファイルを読み込む\n",
    "df = pd.read_csv(filepath)\n",
    "\n",
    "# 'Content'列の文字数をカウントする\n",
    "df['char_count'] = df['Content'].str.len()\n",
    "\n",
    "# 'Created by'でグループ化し、各グループの文字数の合計を計算する\n",
    "char_count_by_creator = df.groupby('Created by')['char_count'].sum()\n",
    "\n",
    "print(char_count_by_creator)\n",
    "\n",
    "print(\"Total: \" + str(char_count_by_creator.sum()))\n",
    "\n",
    "print(char_count_by_creator['中山建太'])\n",
    "print(char_count_by_creator['平田聖'])\n",
    "print(char_count_by_creator['水野響'])\n",
    "print(char_count_by_creator['鈴木真希'])\n",
    "print(char_count_by_creator['Dai Miyahara'])\n",
    "print(char_count_by_creator['大野寛人'])\n",
    "print(char_count_by_creator['FABIAN M. FERNANDEZ'])\n",
    "\n"
   ]
  },
  {
   "cell_type": "markdown",
   "id": "919eba3d-7533-4840-90c0-2742e09a27b9",
   "metadata": {},
   "source": [
    "### 文章量"
   ]
  },
  {
   "cell_type": "markdown",
   "id": "1a819210-e346-44b7-96c0-c1d77654bcfe",
   "metadata": {},
   "source": [
    "#### Slack"
   ]
  },
  {
   "cell_type": "markdown",
   "id": "bea17b9f-1f8c-4e2a-ac42-434b5475ca32",
   "metadata": {},
   "source": [
    "#### Figjam"
   ]
  },
  {
   "cell_type": "markdown",
   "id": "8a0627d0-bc27-4611-92cc-a889591031fd",
   "metadata": {},
   "source": [
    "### 単語のカウント数\n"
   ]
  },
  {
   "cell_type": "markdown",
   "id": "0d94d5a6-7246-492c-8513-fd1aceb039f2",
   "metadata": {},
   "source": [
    "#### Slack"
   ]
  },
  {
   "cell_type": "code",
   "execution_count": 1,
   "id": "2317293f-0f1b-439e-86d0-dab2c3cde751",
   "metadata": {},
   "outputs": [
    {
     "name": "stdout",
     "output_type": "stream",
     "text": [
      "Word: する, Count: 95\n",
      "Word: from, Count: 85\n",
      "Word: pt, Count: 82\n",
      "Word: 所持, Count: 74\n",
      "Word: atomono, Count: 61\n",
      "Word: In, Count: 60\n",
      "Word: transitioned, Count: 58\n",
      "Word: Jabelic, Count: 55\n",
      "Word: 不在, Count: 55\n",
      "Word: リスト, Count: 53\n",
      "Word: 修正, Count: 47\n",
      "Word: こと, Count: 47\n",
      "Word: 確認, Count: 46\n",
      "Word: でき, Count: 45\n",
      "Word: front, Count: 43\n",
      "Word: 画面, Count: 42\n",
      "Word: 追加, Count: 41\n",
      "Word: 作成, Count: 41\n",
      "Word: 作業, Count: 41\n",
      "Word: Progress, Count: 38\n"
     ]
    }
   ],
   "source": [
    "import os\n",
    "import json\n",
    "import MeCab\n",
    "import ipadic\n",
    "from collections import Counter\n",
    "import re\n",
    "\n",
    "CHASEN_ARGS = r' -F \"%m\\t%f[7]\\t%f[6]\\t%F-[0,1,2,3]\\t%f[4]\\t%f[5]\\n\"'\n",
    "CHASEN_ARGS += r' -U \"%m\\t%m\\t%m\\t%F-[0,1,2,3]\\t\\t\\n\"'\n",
    "\n",
    "# JSONファイルが格納されているディレクトリのパス\n",
    "directory = 'material/star_fish_10_17_10_23/'\n",
    "\n",
    "# MeCabのインスタンスを作成\n",
    "m = MeCab.Tagger(ipadic.MECAB_ARGS + CHASEN_ARGS)\n",
    "\n",
    "# 単語のカウントを格納するCounterオブジェクト\n",
    "word_counts = Counter()\n",
    "\n",
    "# ディレクトリとそのサブディレクトリ内のすべてのファイルを読み込む\n",
    "for subdir, dirs, files in os.walk(directory):\n",
    "    for filename in files:\n",
    "        if filename.endswith(\".json\"): \n",
    "            filepath = subdir + os.sep + filename\n",
    "            with open(filepath, 'r') as f:\n",
    "                data = json.load(f)\n",
    "                for message in data:\n",
    "                    if 'text' in message:\n",
    "                        text = message['text']\n",
    "                        # HTMLエンティティを除外\n",
    "                        text = re.sub(r'&[a-z]+;', '', text)\n",
    "                        text = re.sub(r'https*:[a-zA-Z0-9%./?]+', '', text)\n",
    "                        text = re.sub(r'AT-[0-9A-Za-z]+', '', text)\n",
    "                        text = re.sub(r'[0-9]+', '', text)\n",
    "                        parsed_text = m.parse(text).split('\\n')\n",
    "                        words = [word.split('\\t')[0] for word in parsed_text \n",
    "                                 if word.strip() \n",
    "                                 and len(word.split('\\t')) > 1 \n",
    "                                 and (\n",
    "                                     word.split('\\t')[3].startswith('名詞') \n",
    "                                     or word.split('\\t')[3].startswith('動詞') \n",
    "                                     or word.split('\\t')[3].startswith('形容詞')\n",
    "                                 ) \n",
    "                                 and len(word.split('\\t')[0]) > 1 \n",
    "                                 ]  \n",
    "                        # 名詞、動詞、形容詞のみを抽出し、一文字の単語や英字のみの単語を除外\n",
    "                        word_counts.update(words)\n",
    "\n",
    "# 最も頻繁に出現する単語の上位3つを出力\n",
    "top_three = word_counts.most_common(20)\n",
    "for word, count in top_three:\n",
    "    print(f'Word: {word}, Count: {count}')"
   ]
  },
  {
   "cell_type": "markdown",
   "id": "a6f9190f-6df5-4e21-8233-446fcc7ef550",
   "metadata": {},
   "source": [
    "#### Figjam"
   ]
  },
  {
   "cell_type": "code",
   "execution_count": 2,
   "id": "338ba729-56ef-486c-ae83-45ee4711dac7",
   "metadata": {},
   "outputs": [
    {
     "name": "stdout",
     "output_type": "stream",
     "text": [
      "Creator: Dai Miyahara\n",
      "    Word: ふりかえり, Count: 2\n",
      "    Word: アウトプット, Count: 2\n",
      "    Word: 記載, Count: 2\n",
      "    Word: slack, Count: 1\n",
      "    Word: コミュニケーション, Count: 1\n",
      "    Word: Conflict, Count: 1\n",
      "    Word: 解消, Count: 1\n",
      "    Word: 後回し, Count: 1\n",
      "    Word: 中間, Count: 1\n",
      "    Word: 報告, Count: 1\n",
      "Creator: FABIAN M. FERNANDEZ\n",
      "    Word: し, Count: 4\n",
      "    Word: ない, Count: 3\n",
      "    Word: 一, Count: 2\n",
      "    Word: ましょ, Count: 2\n",
      "    Word: う, Count: 2\n",
      "    Word: StartWorkShare, Count: 1\n",
      "    Word: コミュニケーション, Count: 1\n",
      "    Word: 人, Count: 1\n",
      "    Word: 考え込ん, Count: 1\n",
      "    Word: 相談, Count: 1\n",
      "Creator: 中山建太\n",
      "    Word: 作業, Count: 4\n",
      "    Word: た, Count: 4\n",
      "    Word: たい, Count: 4\n",
      "    Word: ない, Count: 4\n",
      "    Word: こと, Count: 4\n",
      "    Word: 考える, Count: 3\n",
      "    Word: 見せ, Count: 2\n",
      "    Word: 方, Count: 2\n",
      "    Word: わから, Count: 2\n",
      "    Word: 振り返り, Count: 2\n",
      "Creator: 大野寛人\n",
      "    Word: な, Count: 3\n",
      "    Word: た, Count: 2\n",
      "    Word: 時, Count: 2\n",
      "    Word: タスク, Count: 1\n",
      "    Word: 着手, Count: 1\n",
      "    Word: し, Count: 1\n",
      "    Word: 投稿, Count: 1\n",
      "    Word: 些細, Count: 1\n",
      "    Word: 事, Count: 1\n",
      "    Word: 困っ, Count: 1\n",
      "Creator: 平田聖\n",
      "    Word: な, Count: 2\n",
      "    Word: 些細, Count: 1\n",
      "    Word: こと, Count: 1\n",
      "    Word: 構わ, Count: 1\n",
      "    Word: ず, Count: 1\n",
      "    Word: 聞い, Count: 1\n",
      "    Word: 認識, Count: 1\n",
      "    Word: ズレ, Count: 1\n",
      "    Word: 小さい, Count: 1\n",
      "    Word: うち, Count: 1\n",
      "Creator: 水野響\n",
      "    Word: し, Count: 5\n",
      "    Word: ない, Count: 4\n",
      "    Word: た, Count: 2\n",
      "    Word: 思う, Count: 2\n",
      "    Word: わから, Count: 2\n",
      "    Word: こと, Count: 2\n",
      "    Word: です, Count: 2\n",
      "    Word: 問題, Count: 2\n",
      "    Word: どう, Count: 2\n",
      "    Word: やっ, Count: 2\n",
      "Creator: 鈴木真希\n",
      "    Word: 先週, Count: 1\n",
      "    Word: 振り返り, Count: 1\n",
      "    Word: 方法, Count: 1\n",
      "    Word: クォーター, Count: 1\n",
      "    Word: ごと, Count: 1\n",
      "    Word: 実施, Count: 1\n",
      "    Word: し, Count: 1\n",
      "    Word: よい, Count: 1\n",
      "    Word: slack, Count: 1\n",
      "    Word: コミュニケーション, Count: 1\n"
     ]
    }
   ],
   "source": [
    "import pandas as pd\n",
    "import MeCab\n",
    "import ipadic\n",
    "from collections import Counter\n",
    "import re\n",
    "\n",
    "CHASEN_ARGS = r' -F \"%m\\t%f[7]\\t%f[6]\\t%F-[0,1,2,3]\\t%f[4]\\t%f[5]\\n\"'\n",
    "CHASEN_ARGS += r' -U \"%m\\t%m\\t%m\\t%F-[0,1,2,3]\\t\\t\\n\"'\n",
    "\n",
    "# CSVファイルのパス\n",
    "filepath = 'material/star_fish_10_17_10_23/figjam.csv'\n",
    "\n",
    "# CSVファイルを読み込む\n",
    "df = pd.read_csv(filepath)\n",
    "\n",
    "# MeCabのインスタンスを作成\n",
    "m = MeCab.Tagger(ipadic.MECAB_ARGS + CHASEN_ARGS)\n",
    "\n",
    "# 単語をカウントする関数を定義\n",
    "def count_words(text):\n",
    "    if not isinstance(text, str):\n",
    "        return []\n",
    "    parsed_text = m.parse(text).splitlines()[:-1]\n",
    "    words = []\n",
    "    for word in parsed_text:\n",
    "        word_parts = word.split('\\t')\n",
    "        if len(word_parts) >= 4 and not (word_parts[3].startswith('助詞') or word_parts[3].startswith('記号')):\n",
    "            # Remove symbols from the word\n",
    "            word_clean = re.sub(r'\\W+', '', word_parts[0])\n",
    "            if word_clean:\n",
    "                words.append(word_clean)\n",
    "    return words\n",
    "\n",
    "# 'Content'列に関数を適用して新しい列を作成\n",
    "df['Content_words'] = df['Content'].apply(count_words)\n",
    "\n",
    "# 'Created by'でグループ化し、各グループの単語を集計\n",
    "words_by_creator = df.groupby('Created by')['Content_words'].sum()\n",
    "\n",
    "# 各作成者の最も頻繁に出現する単語の上位3つを計算\n",
    "for creator, words in words_by_creator.items():\n",
    "    word_counts = Counter(words)\n",
    "    top_three = word_counts.most_common(10)\n",
    "    print(f'Creator: {creator}')\n",
    "    for word, count in top_three:\n",
    "        print(f'    Word: {word}, Count: {count}')"
   ]
  },
  {
   "cell_type": "code",
   "execution_count": null,
   "id": "6fcaeebc-b73f-465b-93a5-9dcde3b9d44b",
   "metadata": {},
   "outputs": [],
   "source": []
  }
 ],
 "metadata": {
  "kernelspec": {
   "display_name": "Python 3 (ipykernel)",
   "language": "python",
   "name": "python3"
  },
  "language_info": {
   "codemirror_mode": {
    "name": "ipython",
    "version": 3
   },
   "file_extension": ".py",
   "mimetype": "text/x-python",
   "name": "python",
   "nbconvert_exporter": "python",
   "pygments_lexer": "ipython3",
   "version": "3.8.12"
  }
 },
 "nbformat": 4,
 "nbformat_minor": 5
}
